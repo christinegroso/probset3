{
 "cells": [
  {
   "cell_type": "code",
   "execution_count": 5,
   "metadata": {},
   "outputs": [
    {
     "name": "stdout",
     "output_type": "stream",
     "text": [
      "Date: 2018-10-11 15:36     Min Water Level: 1.621\n"
     ]
    }
   ],
   "source": [
    "# opens the data file\n",
    "f = open('/blue/bsc4452/share/Class_Files/data/CO-OPS__8729108__wl.csv', 'r')\n",
    "\n",
    "# define function\n",
    "def lowest_num(f):\n",
    "    \n",
    "    # import pandas \n",
    "    import pandas as pd\n",
    "    \n",
    "    # create dataframe with the date and water levels \n",
    "    df=pd.read_csv(f, usecols=[0,1])\n",
    "    \n",
    "    # store the minimum water level in variable min_num \n",
    "    min_num = df.min()[1]\n",
    "    \n",
    "    # iterate through each row and store date into variable d, water level into variable w\n",
    "    for i, row in df.iterrows():\n",
    "        d = row[0]\n",
    "        w = row[1]\n",
    "        # format the date and min water level as a string, store in variable statement\n",
    "        statement = \"Date: {0}     Min Water Level: {1}\".format(d, w)\n",
    "        # if the (water level = min value), return date and water level \n",
    "        if w == min_num:\n",
    "            return statement\n",
    "\n",
    "# print the results of the function \n",
    "print(lowest_num(f))"
   ]
  },
  {
   "cell_type": "code",
   "execution_count": 3,
   "metadata": {},
   "outputs": [
    {
     "name": "stdout",
     "output_type": "stream",
     "text": [
      "Date: 2018-10-10 18:06     Max Water Level: 6.647\n"
     ]
    }
   ],
   "source": [
    "# opens the data file\n",
    "f = open('/blue/bsc4452/share/Class_Files/data/CO-OPS__8729108__wl.csv', 'r')\n",
    "\n",
    "# define function\n",
    "def highest_num(f):\n",
    "    \n",
    "    # import pandas \n",
    "    import pandas as pd\n",
    "    \n",
    "    # create dataframe with the date and water levels \n",
    "    df=pd.read_csv(f, usecols=[0,1])\n",
    "    \n",
    "    # store the maximum water level in variable min_num \n",
    "    max_num = df.max()[1]\n",
    "    \n",
    "    # iterate through each row and store date into variable d, water level into variable w\n",
    "    for i, row in df.iterrows():\n",
    "        d = row[0]\n",
    "        w = row[1]\n",
    "        # format the date and max water level as a string, store in variable statement\n",
    "        statement = \"Date: {0}     Max Water Level: {1}\".format(d, w)\n",
    "        ### if the (water level = min value), return date and water level \n",
    "        if w == max_num:\n",
    "            return statement\n",
    "\n",
    "# print the results of the function \n",
    "print(highest_num(f))"
   ]
  },
  {
   "cell_type": "code",
   "execution_count": 4,
   "metadata": {},
   "outputs": [
    {
     "name": "stdout",
     "output_type": "stream",
     "text": [
      "Date: 2018-10-09 00:06     Mean Water Level: 2.454\n"
     ]
    }
   ],
   "source": [
    "# opens the data file\n",
    "f = open('/blue/bsc4452/share/Class_Files/data/CO-OPS__8729108__wl.csv', 'r')\n",
    "\n",
    "# define function\n",
    "def avg_num(f):\n",
    "    \n",
    "    # import pandas \n",
    "    import pandas as pd\n",
    "    \n",
    "    # create dataframe with the date and water levels \n",
    "    df=pd.read_csv(f, usecols=[0,1])\n",
    "    \n",
    "    # store the minimum water level in variable min_num \n",
    "    mean_num = df.mean(axis=1)[1]\n",
    "    \n",
    "    # iterate through each row and store date into variable d, water level into variable w\n",
    "    for i, row in df.iterrows():\n",
    "        d = row[0]\n",
    "        w = row[1]\n",
    "        # format the date and min water level as a string, store in variable statement\n",
    "        statement = \"Date: {0}     Mean Water Level: {1}\".format(d, w)\n",
    "        ### if the (water level = mean value), return date and water level \n",
    "        if w == mean_num:\n",
    "            return statement\n",
    "\n",
    "# print the results of the function \n",
    "print(avg_num(f))"
   ]
  },
  {
   "cell_type": "code",
   "execution_count": null,
   "metadata": {},
   "outputs": [],
   "source": []
  }
 ],
 "metadata": {
  "kernelspec": {
   "display_name": "Python 3.8 (full)",
   "language": "python",
   "name": "python3-3.8-ufrc"
  },
  "language_info": {
   "codemirror_mode": {
    "name": "ipython",
    "version": 3
   },
   "file_extension": ".py",
   "mimetype": "text/x-python",
   "name": "python",
   "nbconvert_exporter": "python",
   "pygments_lexer": "ipython3",
   "version": "3.8.5"
  }
 },
 "nbformat": 4,
 "nbformat_minor": 4
}
