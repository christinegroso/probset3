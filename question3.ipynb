{
 "cells": [
  {
   "cell_type": "code",
   "execution_count": null,
   "metadata": {},
   "outputs": [],
   "source": [
    "# opens the data file\n",
    "f = open('/blue/bsc4452/share/Class_Files/data/CO-OPS__8729108__wl.csv')\n",
    "\n",
    "# defines the function\n",
    "def fastest_rise(f):\n",
    "    \n",
    "    # imports pandas \n",
    "    import pandas as pd\n",
    "    \n",
    "    # create dataframe with dates and water levels \n",
    "    df=pd.read_csv(f, usecols=[0,1])\n",
    "    # add change column for the difference in water level values \n",
    "    df['Change'] = df[' Water Level'].diff()\n",
    "    \n",
    "    # find the max change in water levels \n",
    "    max_num = df.max()[2]\n",
    "    # iterate through each row, store date into variable x, and store change into variable y \n",
    "    for i, row in df.iterrows():\n",
    "        x = row[0]\n",
    "        y = row[2]\n",
    "        # format the date and change as a string and store in variable statement\n",
    "        statement = \"Date: {0}     Fastest Rise in Water Level: {1}\".format(x, y)\n",
    "        # if the change is the max value, return date and change\n",
    "        if y == max_num:\n",
    "            return statement\n",
    "\n",
    "# print the results of the function \n",
    "print(fastest_rise(f))"
   ]
  }
 ],
 "metadata": {
  "kernelspec": {
   "display_name": "Python 3.8 (full)",
   "language": "python",
   "name": "python3-3.8-ufrc"
  },
  "language_info": {
   "codemirror_mode": {
    "name": "ipython",
    "version": 3
   },
   "file_extension": ".py",
   "mimetype": "text/x-python",
   "name": "python",
   "nbconvert_exporter": "python",
   "pygments_lexer": "ipython3",
   "version": "3.8.5"
  }
 },
 "nbformat": 4,
 "nbformat_minor": 4
}
