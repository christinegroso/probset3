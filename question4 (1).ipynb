{
 "cells": [
  {
   "cell_type": "code",
   "execution_count": 1,
   "metadata": {},
   "outputs": [
    {
     "name": "stdout",
     "output_type": "stream",
     "text": [
      "Warning!\n",
      "Warning!\n",
      "Warning!\n",
      "Level is greater than 5.\n",
      "Warning!\n",
      "Level is greater than 5.\n",
      "Warning!\n",
      "Level is greater than 5.\n",
      "Level is greater than 5.\n",
      "Level is greater than 5.\n",
      "Level is greater than 5.\n",
      "No value.\n",
      "Level is greater than 5.\n",
      "Level is greater than 5.\n",
      "Level is greater than 5.\n",
      "Level is greater than 5.\n",
      "Level is greater than 5.\n",
      "Level is greater than 5.\n",
      "Level is greater than 5.\n"
     ]
    }
   ],
   "source": [
    "# opens the data file\n",
    "f = open('/blue/bsc4452/share/Class_Files/data/CO-OPS__8729108__wl.csv')\n",
    "\n",
    "# creates function water_lvl\n",
    "def water_lvl(f):\n",
    "    \n",
    "    # creates empty dictionary\n",
    "    date_dict = {}\n",
    "    \n",
    "    # iterates through each line\n",
    "    for line in f:\n",
    "        # split lines\n",
    "        entire_line = line.split(\",\")\n",
    "        # creates new variables to get the date[0] and water level[1] values\n",
    "        date = entire_line[0]\n",
    "        water_level = entire_line[1]\n",
    "        # stores date as key and water level as value inside the dictionary\n",
    "        date_dict[date] = water_level\n",
    "        \n",
    "    previous_lvl = None\n",
    "    # iterates through each date/water level in date_dict dictionary\n",
    "    for key in date_dict:\n",
    "        if date_dict[key] == \"\":\n",
    "            print(\"No value.\")\n",
    "        else:\n",
    "            try:\n",
    "                water_level = float(date_dict[key])\n",
    "            except:\n",
    "                continue\n",
    "            if (previous_lvl != None) and (water_level - previous_lvl > 0.25):\n",
    "                print(\"Warning!\")\n",
    "            if water_level > 5:\n",
    "                print(\"Level is greater than 5.\")\n",
    "        previous_lvl = water_level\n",
    "        \n",
    "# calls the function\n",
    "water_lvl(f)"
   ]
  },
  {
   "cell_type": "code",
   "execution_count": null,
   "metadata": {},
   "outputs": [],
   "source": []
  }
 ],
 "metadata": {
  "kernelspec": {
   "display_name": "Python 3.8 (full)",
   "language": "python",
   "name": "python3-3.8-ufrc"
  },
  "language_info": {
   "codemirror_mode": {
    "name": "ipython",
    "version": 3
   },
   "file_extension": ".py",
   "mimetype": "text/x-python",
   "name": "python",
   "nbconvert_exporter": "python",
   "pygments_lexer": "ipython3",
   "version": "3.8.5"
  }
 },
 "nbformat": 4,
 "nbformat_minor": 4
}
